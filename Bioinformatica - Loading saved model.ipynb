{
 "cells": [
  {
   "cell_type": "markdown",
   "metadata": {},
   "source": [
    "# Loading a keras model and predicting values\n",
    "What follows is an extremely short tutorial on how to use the trained network:"
   ]
  },
  {
   "cell_type": "code",
   "execution_count": 1,
   "metadata": {},
   "outputs": [],
   "source": [
    "import numpy as np"
   ]
  },
  {
   "cell_type": "code",
   "execution_count": 2,
   "metadata": {},
   "outputs": [
    {
     "name": "stderr",
     "output_type": "stream",
     "text": [
      "/anaconda3/lib/python3.6/site-packages/h5py/__init__.py:36: FutureWarning: Conversion of the second argument of issubdtype from `float` to `np.floating` is deprecated. In future, it will be treated as `np.float64 == np.dtype(float).type`.\n",
      "  from ._conv import register_converters as _register_converters\n",
      "Using TensorFlow backend.\n"
     ]
    }
   ],
   "source": [
    "from keras.models import load_model\n",
    "model = load_model('model.h5')\n",
    "model.load_weights('weights.h5')"
   ]
  },
  {
   "cell_type": "code",
   "execution_count": 3,
   "metadata": {},
   "outputs": [],
   "source": [
    "EXAMPLE_DATASET = \"Mendelian.normalized.example.test.tsv\""
   ]
  },
  {
   "cell_type": "code",
   "execution_count": 4,
   "metadata": {},
   "outputs": [],
   "source": [
    "data_points =  np.loadtxt(EXAMPLE_DATASET, delimiter='\\t')"
   ]
  },
  {
   "cell_type": "code",
   "execution_count": 7,
   "metadata": {},
   "outputs": [],
   "source": [
    "def number_to_class(value:int)->str:\n",
    "    \"\"\"Map class identifier to class name.\"\"\"\n",
    "    if value:\n",
    "        return \"Positive\"\n",
    "    return \"Negative\""
   ]
  },
  {
   "cell_type": "code",
   "execution_count": 8,
   "metadata": {},
   "outputs": [
    {
     "name": "stdout",
     "output_type": "stream",
     "text": [
      "I believe Positive to be Positive\n",
      "I believe Positive to be Positive\n",
      "I believe Positive to be Positive\n",
      "I believe Positive to be Positive\n",
      "I believe Positive to be Positive\n",
      "I believe Positive to be Positive\n",
      "I believe Positive to be Negative\n",
      "I believe Positive to be Positive\n",
      "I believe Positive to be Positive\n",
      "I believe Positive to be Negative\n"
     ]
    }
   ],
   "source": [
    "for prediction in model.predict_classes(data_points):\n",
    "    print(\"I believe %s to be %s\"%(number_to_class(1), number_to_class(prediction)))"
   ]
  }
 ],
 "metadata": {
  "kernelspec": {
   "display_name": "Python 3",
   "language": "python",
   "name": "python3"
  },
  "language_info": {
   "codemirror_mode": {
    "name": "ipython",
    "version": 3
   },
   "file_extension": ".py",
   "mimetype": "text/x-python",
   "name": "python",
   "nbconvert_exporter": "python",
   "pygments_lexer": "ipython3",
   "version": "3.6.4"
  }
 },
 "nbformat": 4,
 "nbformat_minor": 2
}
